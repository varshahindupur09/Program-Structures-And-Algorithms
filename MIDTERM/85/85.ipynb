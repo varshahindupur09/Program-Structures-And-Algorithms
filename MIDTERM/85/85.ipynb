{
 "cells": [
  {
   "cell_type": "markdown",
   "metadata": {},
   "source": [
    "## Add Two Integers\n",
    "## Jagadeesh Vasudevamurthy"
   ]
  },
  {
   "cell_type": "code",
   "execution_count": null,
   "metadata": {},
   "outputs": [],
   "source": [
    "############################################################\n",
    "# Exam.py\n",
    "# Author: Jagadeesh Vasudevamurthy\n",
    "# Copyright: Jagadeesh Vasudevamurthy 2024\n",
    "###########################################################\n",
    "\n",
    "############################################################\n",
    "# Replace the code given here\n",
    "###########################################################\n",
    "\n",
    "\n",
    "########################################\n",
    "# WRITE CODE BELOW\n",
    "########################################\n",
    "\n",
    "\n",
    "# think about how to make it challenging\n",
    "class Addition:\n",
    "    def __init__(self, a,b,c,show)->'None':\n",
    "        self._sign = \"\" #empty for positive, - for negative\n",
    "        if (show):\n",
    "            print(\"a =\",a)\n",
    "            print(\"b =\",b)\n",
    "\n",
    "        def pos_pos_add(a, b):\n",
    "            self._sign = \"\"\n",
    "            if a>0 and b>0:\n",
    "                print(\"pos A pos B addition\")\n",
    "                return a + b\n",
    "            \n",
    "        def pos_neg_add(a, b):\n",
    "            if a>0 and (b<0 and b<a):\n",
    "                print(\"pos A neg B addition\")\n",
    "                self._sign = \"\"\n",
    "                return a - b\n",
    "            if a>0 and (b<0 and b>a):\n",
    "                print(\"pos A neg B addition\")\n",
    "                self._sign = \"-\"\n",
    "                return b - a\n",
    "            \n",
    "        \n",
    "        def neg__pos_add(a, b):\n",
    "            if a<0 and (b>0 and b>a):\n",
    "                print(\"neg A pos B addition\")\n",
    "                self._sign = \"-\"\n",
    "                return b-a\n",
    "            \n",
    "            \n",
    "        \n",
    "        \n",
    "        \n",
    "\n"
   ]
  },
  {
   "cell_type": "markdown",
   "metadata": {},
   "source": [
    "##  CANNOT CHANGE ANYTHING BELOW"
   ]
  },
  {
   "cell_type": "markdown",
   "metadata": {},
   "source": [
    "## TEST BENCH\n",
    "## NOTHING CAN BE CHANED BELOW"
   ]
  },
  {
   "cell_type": "code",
   "execution_count": null,
   "metadata": {},
   "outputs": [],
   "source": [
    "\n",
    "############################################################\n",
    "# main \n",
    "# YOU CANNOT CHANGE ANYTHING BELOW\n",
    "###########################################################\n",
    "def main():\n",
    "    print(\"TEST ON YOUR OWN. a =1 b =-1 answer is 0\")\n",
    "    print(\"Must call only:s = Exam(a,b,c,True)\")\n",
    "    print(\"You cannot call any other function\")\n",
    "    \n",
    "############################################################\n",
    "# main\n",
    "###########################################################\n",
    "if (__name__    == '__main__'):\n",
    "    main()"
   ]
  },
  {
   "cell_type": "code",
   "execution_count": null,
   "metadata": {},
   "outputs": [],
   "source": [
    "############################################################\n",
    "# main\n",
    "###########################################################\n",
    "if (__name__    == '__main__'):\n",
    "    main()"
   ]
  }
 ],
 "metadata": {
  "kernelspec": {
   "display_name": "Python 3 (ipykernel)",
   "language": "python",
   "name": "python3"
  },
  "language_info": {
   "codemirror_mode": {
    "name": "ipython",
    "version": 3
   },
   "file_extension": ".py",
   "mimetype": "text/x-python",
   "name": "python",
   "nbconvert_exporter": "python",
   "pygments_lexer": "ipython3",
   "version": "3.9.13"
  }
 },
 "nbformat": 4,
 "nbformat_minor": 4
}
